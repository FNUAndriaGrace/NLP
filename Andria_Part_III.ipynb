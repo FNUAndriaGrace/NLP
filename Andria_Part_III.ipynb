{
  "nbformat": 4,
  "nbformat_minor": 0,
  "metadata": {
    "colab": {
      "provenance": []
    },
    "kernelspec": {
      "name": "python3",
      "display_name": "Python 3"
    },
    "language_info": {
      "name": "python"
    }
  },
  "cells": [
    {
      "cell_type": "markdown",
      "metadata": {
        "id": "view-in-github"
      },
      "source": [
        "<a href=\"https://colab.research.google.com/github/Natural-Language-Processing-YU/Module-5-Assignment/blob/main/scripts/M2_Assignment_Part_II.ipynb\" target=\"_parent\"><img src=\"https://colab.research.google.com/assets/colab-badge.svg\" alt=\"Open In Colab\"/></a>"
      ]
    },
    {
      "cell_type": "markdown",
      "metadata": {
        "id": "AQ7DMQe6ynxH"
      },
      "source": [
        "##Part III:  Machine Learning and Deep Neural Networks with NLP\n",
        "\n",
        "Next we will move to Machine Learning Models and the Introduction of Deep Neural networks for NLP.\n",
        "\n",
        "In this section, we will cover:\n",
        "\n",
        "\n",
        "1.   Refresher on Machine Learning and Shallow Learning Approach\n",
        "2.   Introduction to Neural Networks and Deep Learning\n",
        "3.   Sequence Models with Neural Networks\n",
        "\n",
        "## Setup\n",
        "As part of completing the assignment, you will see that there are areas in the note book for you to complete your own coding input.\n",
        "\n",
        "It will be look like following:\n",
        "```\n",
        "### START CODE HERE (REPLACE INSTANCES OF 'None' with your code) ###\n",
        "'Some coding activity for you to complete'\n",
        "### END CODE HERE ###\n",
        "\n",
        "```\n",
        "Please be sure to fill these code snippets out as you turn in your assignment."
      ]
    },
    {
      "cell_type": "markdown",
      "metadata": {
        "id": "B2gM5VJY33wG"
      },
      "source": [
        "### 3.1 Machine Learning for NLP\n",
        "Recall that we can use our techniques to create predictive algorithms and solve common NLP tasks/goals such as sentiment analysis, text summarization, question-answering, etc. These tasks, you will find, are greatly improved with Deep Learning and Neural Networks.\n",
        "\n",
        "\n",
        "![Artificial Intelligence](https://drive.google.com/uc?export=view&id=1cMW6E4PiVPvxvlfS7IxrBNkv2byAelXy)\n",
        "\n",
        "\n",
        "Before move towards understanding the NN used for NLP, let's briefly refresh our understanding of Machine Learning, or shallow learning techniques.\n",
        "\n",
        "There are several fundamental steps to any Machine Learning algorithm. Typically, they follow these steps below.\n",
        "\n",
        "![basic ML](https://drive.google.com/uc?export=view&id=1cNhv3qDj_j8Mvga274azmRYJ0LzC2bxx)\n",
        "\n",
        "One of the most common use cases is classification of data. We use a supervised machine learning model where some body of text are classified or labeled. may create an input vector that we must use feature engineering techniques as an input to the ML algorithm. This often means altering the data and making assumptions about the variables in the data that we believe are most pertinent to the predictability of the data. An example is the Naive Bayes and Bag-of-Words representation.\n",
        "\n",
        "To train a model -- for example, training a logistic regression model to determine whether or not a movie review is positive or negative, for example-- we split the labeled data into a training and test sets. First, we will run the algorithm on the training test data, and then evaluate its efficacy. Then, we run the test dataset through the model to evaluate its performance.\n",
        "\n",
        "As we evaluate the performance of the model, we tune \"hyperparameters\". Hyperparameters are inputs to our model that have an influence on the models' performance. They are most often inputs by humans and determined through a series of heuristics and they result in estimates to the model parametters. For example, the percentage of data split between a training and test set is a heuristic -- or rule of thumb-- where we often choose 80% of the labeled data to train our model, and 20% to test it.\n",
        "\n"
      ]
    },
    {
      "cell_type": "markdown",
      "metadata": {
        "id": "niCiauS44zRm"
      },
      "source": [
        "#### 3.1.1 Example: ML Approach with NLP - Sentiment Analysis Using Bag-of-Words\n",
        "We often call the Naïve Bayes classifier the bag-of-words approach. That’s because we are essentially throwing in the collection of words into a ‘bag’, selecting a word at random, and then calculating their frequency to use in the Bayesian Inference. Thus, context – the position of words -- is ignored and despite this, it turns out that the Naïve Bayes approach can be accurate and effective at determining whether an email is spam for example.\n"
      ]
    },
    {
      "cell_type": "markdown",
      "metadata": {
        "id": "iiAq2yoqEFci"
      },
      "source": [
        "###### 3.1.1.1 Load the Dataset and Inspect the data."
      ]
    },
    {
      "cell_type": "code",
      "metadata": {
        "colab": {
          "base_uri": "https://localhost:8080/"
        },
        "id": "1hAUE4tB45S2",
        "outputId": "60ec74dd-0606-4e0c-a98b-35d819f2dd20"
      },
      "source": [
        "#from: https://alvinntnu.github.io/NTNU_ENC2045_LECTURES/nlp/ml-sklearn-classification.html#data-loading\n",
        "#import libraries\n",
        "import nltk, random\n",
        "nltk.download('movie_reviews')\n",
        "from nltk.corpus import movie_reviews\n",
        "import pandas as pd\n",
        "import matplotlib.pyplot as plt\n",
        "import numpy as np\n",
        "\n",
        "#Load the data from nltk.corpus.moviereviews\n",
        "print(len(movie_reviews.fileids()))\n",
        "print(movie_reviews.categories())\n",
        "print(movie_reviews.words()[:100])\n",
        "print(movie_reviews.fileids()[:10])\n",
        "\n",
        "#Rearrange the corpus data as a list of tuple, where the first element is the word tokens of the documents,\n",
        "#and the second element is the label of the documents (i.e., sentiment labels).\n",
        "documents = [(list(movie_reviews.words(fileid)), category)\n",
        "             for category in movie_reviews.categories()\n",
        "             for fileid in movie_reviews.fileids(category)]\n",
        "random.seed(123)\n",
        "random.shuffle(documents)\n",
        "\n",
        "#Describe the dataset\n",
        "print('Number of Reviews/Documents: {}'.format(len(documents)))  #Corpus Size (Number of Documents)\n",
        "print('Corpus Size (words): {}'.format(np.sum([len(d) for (d,l) in documents]))) #Corpus Size (Number of Words)\n",
        "print('Sample Text of Doc 1:') #Distribution of the Two Classes\n",
        "print('-'*30)\n",
        "print(' '.join(documents[0][0][:50])) # first 50 words of the first document\n",
        "\n",
        "## Check Sentiment Distribution of the Current Dataset\n",
        "from collections import Counter\n",
        "sentiment_distr = Counter([label for (words, label) in documents])\n",
        "print(sentiment_distr)"
      ],
      "execution_count": 3,
      "outputs": [
        {
          "output_type": "stream",
          "name": "stderr",
          "text": [
            "[nltk_data] Downloading package movie_reviews to /root/nltk_data...\n",
            "[nltk_data]   Unzipping corpora/movie_reviews.zip.\n"
          ]
        },
        {
          "output_type": "stream",
          "name": "stdout",
          "text": [
            "2000\n",
            "['neg', 'pos']\n",
            "['plot', ':', 'two', 'teen', 'couples', 'go', 'to', ...]\n",
            "['neg/cv000_29416.txt', 'neg/cv001_19502.txt', 'neg/cv002_17424.txt', 'neg/cv003_12683.txt', 'neg/cv004_12641.txt', 'neg/cv005_29357.txt', 'neg/cv006_17022.txt', 'neg/cv007_4992.txt', 'neg/cv008_29326.txt', 'neg/cv009_29417.txt']\n",
            "Number of Reviews/Documents: 2000\n",
            "Corpus Size (words): 1583820\n",
            "Sample Text of Doc 1:\n",
            "------------------------------\n",
            "most movies seem to release a third movie just so it can be called a trilogy . rocky iii seems to kind of fit in that category , but manages to be slightly unique . the rocky formula of \" rocky loses fight / rocky trains / rocky wins fight\n",
            "Counter({'pos': 1000, 'neg': 1000})\n"
          ]
        }
      ]
    },
    {
      "cell_type": "markdown",
      "metadata": {
        "id": "hh028orQEBbi"
      },
      "source": [
        "###### 3.1.1.2 Split the data into a training and testing set.\n",
        "\n",
        "Because in most of the ML steps, the feature sets and the labels are often separated as two units, we split our training data into X_train and y_train as the features (X) and labels (y) in training.\n",
        "\n",
        "Likewise, we split our testing data into X_test and y_test as the features (X) and labels (y) in testing."
      ]
    },
    {
      "cell_type": "code",
      "metadata": {
        "id": "JmmY9tMPEKei",
        "colab": {
          "base_uri": "https://localhost:8080/"
        },
        "outputId": "21e8bb7c-354f-40d2-9c52-8333213fc5cb"
      },
      "source": [
        "from sklearn.model_selection import train_test_split\n",
        "train, test = train_test_split(documents, test_size = 0.33, random_state=42)\n",
        "## Sentiment Distrubtion for Train and Test\n",
        "print(Counter([label for (words, label) in train]))\n",
        "print(Counter([label for (words, label) in test]))\n",
        "\n",
        "X_train = [' '.join(words) for (words, label) in train]\n",
        "X_test = [' '.join(words) for (words, label) in test]\n",
        "y_train = [label for (words, label) in train]\n",
        "y_test = [label for (words, label) in test]"
      ],
      "execution_count": 4,
      "outputs": [
        {
          "output_type": "stream",
          "name": "stdout",
          "text": [
            "Counter({'neg': 674, 'pos': 666})\n",
            "Counter({'pos': 334, 'neg': 326})\n"
          ]
        }
      ]
    },
    {
      "cell_type": "markdown",
      "metadata": {
        "id": "1zD53QhgHpLB"
      },
      "source": [
        "##### 3.1.1.3 Text Vectorization\n",
        "In feature-based machine learning, we need to vectorize texts into feature sets (i.e., feature engineering on texts).\n",
        "\n",
        "We use the naive bag-of-words text vectorization. In particular, we use the weighted version of BOW.\n",
        "\n"
      ]
    },
    {
      "cell_type": "code",
      "metadata": {
        "id": "ux7ShwsdHydx",
        "colab": {
          "base_uri": "https://localhost:8080/"
        },
        "outputId": "8d9b95ca-9ee2-47f6-c777-f7a4fe864dbc"
      },
      "source": [
        "#Note: Always split the data into train and test first before vectorizing the texts.\n",
        "#Otherwise, you would leak information to the training process, which may lead to over-fitting\n",
        "\n",
        "from sklearn.feature_extraction.text import CountVectorizer, TfidfVectorizer\n",
        "\n",
        "tfidf_vec = TfidfVectorizer(min_df = 10, token_pattern = r'[a-zA-Z]+')\n",
        "X_train_bow = tfidf_vec.fit_transform(X_train) # fit train\n",
        "X_test_bow = tfidf_vec.transform(X_test) # transform test\n",
        "\n",
        "print(X_train_bow.shape)\n",
        "print(X_test_bow.shape)"
      ],
      "execution_count": 5,
      "outputs": [
        {
          "output_type": "stream",
          "name": "stdout",
          "text": [
            "(1340, 6138)\n",
            "(660, 6138)\n"
          ]
        }
      ]
    },
    {
      "cell_type": "markdown",
      "metadata": {
        "id": "nzASDHmcH-Mj"
      },
      "source": [
        "##### 3.1.1.4 Model Selection and Cross Validation\n",
        "For our current binary sentiment classifier, we will try a few common classification algorithms:\n",
        "\n",
        "1.   Support Vector Machine\n",
        "2.   Decision Tree\n",
        "3.   Naive Bayes\n",
        "4.   Logistic Regression\n",
        "\n",
        "The common steps include:\n",
        "\n",
        "1.   We fit the model with our training data.\n",
        "2.   We check the model stability, using k-fold cross validation on the training data.\n",
        "3.   We use the fitted model to make prediction.\n",
        "4.   We evaluate the model prediction by comparing the predicted classes and the true labels."
      ]
    },
    {
      "cell_type": "markdown",
      "metadata": {
        "id": "hcwtL7asIgkJ"
      },
      "source": [
        "###### 3.1.1.5.1 Support Vector Machines"
      ]
    },
    {
      "cell_type": "code",
      "metadata": {
        "id": "Bw6wI3zoIm9K",
        "colab": {
          "base_uri": "https://localhost:8080/"
        },
        "outputId": "ec1674fd-818e-4ece-d036-ebb661d0cdde"
      },
      "source": [
        "from sklearn import svm\n",
        "\n",
        "model_svm = svm.SVC(C=8.0, kernel='linear')\n",
        "model_svm.fit(X_train_bow, y_train)\n",
        "\n",
        "from sklearn.model_selection import cross_val_score\n",
        "model_svm_acc = cross_val_score(estimator=model_svm, X=X_train_bow, y=y_train, cv=5, n_jobs=-1)\n",
        "print(model_svm_acc)\n",
        "\n",
        "model_svm.predict(X_test_bow[:10])\n",
        "print(model_svm.score(X_test_bow, y_test))\n"
      ],
      "execution_count": 7,
      "outputs": [
        {
          "output_type": "stream",
          "name": "stdout",
          "text": [
            "[0.84328358 0.82089552 0.85447761 0.82462687 0.84701493]\n",
            "0.8075757575757576\n"
          ]
        }
      ]
    },
    {
      "cell_type": "markdown",
      "metadata": {
        "id": "qyVytywPIspy"
      },
      "source": [
        "###### 3.1.1.5.2 Decision Tree"
      ]
    },
    {
      "cell_type": "code",
      "metadata": {
        "id": "2Jf2pSbHIxdK",
        "colab": {
          "base_uri": "https://localhost:8080/"
        },
        "outputId": "2661f25e-2b2f-41e3-da57-6c89f3187423"
      },
      "source": [
        "from sklearn.tree import DecisionTreeClassifier\n",
        "\n",
        "model_dec = DecisionTreeClassifier(max_depth=10, random_state=0)\n",
        "model_dec.fit(X_train_bow, y_train)\n",
        "\n",
        "model_dec_acc = cross_val_score(estimator=model_dec, X=X_train_bow, y=y_train, cv=5, n_jobs=-1)\n",
        "model_dec_acc\n",
        "\n",
        "model_dec.predict(X_test_bow[:10])"
      ],
      "execution_count": 8,
      "outputs": [
        {
          "output_type": "execute_result",
          "data": {
            "text/plain": [
              "array(['pos', 'neg', 'neg', 'neg', 'pos', 'pos', 'neg', 'neg', 'neg',\n",
              "       'neg'], dtype='<U3')"
            ]
          },
          "metadata": {},
          "execution_count": 8
        }
      ]
    },
    {
      "cell_type": "markdown",
      "metadata": {
        "id": "eXlXXem9I18S"
      },
      "source": [
        "###### 3.1.1.5.3 Naive Bayes"
      ]
    },
    {
      "cell_type": "code",
      "metadata": {
        "id": "nsQcANavJNOa",
        "colab": {
          "base_uri": "https://localhost:8080/"
        },
        "outputId": "377d0ea0-734b-407b-bce5-2e93b53f184a"
      },
      "source": [
        "from sklearn.naive_bayes import GaussianNB\n",
        "model_gnb = GaussianNB()\n",
        "model_gnb.fit(X_train_bow.toarray(), y_train)\n",
        "\n",
        "model_gnb_acc = cross_val_score(estimator=model_gnb, X=X_train_bow.toarray(), y=y_train, cv=5, n_jobs=-1)\n",
        "model_gnb_acc\n",
        "\n",
        "model_gnb.predict(X_test_bow[:10].toarray())"
      ],
      "execution_count": 9,
      "outputs": [
        {
          "output_type": "execute_result",
          "data": {
            "text/plain": [
              "array(['pos', 'neg', 'neg', 'neg', 'neg', 'neg', 'neg', 'neg', 'neg',\n",
              "       'neg'], dtype='<U3')"
            ]
          },
          "metadata": {},
          "execution_count": 9
        }
      ]
    },
    {
      "cell_type": "markdown",
      "metadata": {
        "id": "OfXV3d8bJTLy"
      },
      "source": [
        "###### 3.1.1.5.3 Logistic Regression"
      ]
    },
    {
      "cell_type": "code",
      "metadata": {
        "id": "zuZrQlHUJPTW",
        "colab": {
          "base_uri": "https://localhost:8080/"
        },
        "outputId": "44c89e5c-df89-46dd-cdb5-1eed68a363e3"
      },
      "source": [
        "from sklearn.linear_model import LogisticRegression\n",
        "\n",
        "model_lg = LogisticRegression()\n",
        "model_lg.fit(X_train_bow, y_train)\n",
        "\n",
        "model_lg_acc = cross_val_score(estimator=model_lg, X=X_train_bow, y=y_train, cv=5, n_jobs=-1)\n",
        "model_lg_acc\n",
        "\n",
        "model_lg.predict(X_test_bow[:10].toarray())"
      ],
      "execution_count": 10,
      "outputs": [
        {
          "output_type": "execute_result",
          "data": {
            "text/plain": [
              "array(['pos', 'neg', 'pos', 'neg', 'neg', 'pos', 'neg', 'neg', 'neg',\n",
              "       'pos'], dtype='<U3')"
            ]
          },
          "metadata": {},
          "execution_count": 10
        }
      ]
    },
    {
      "cell_type": "markdown",
      "metadata": {
        "id": "KpcXLgo_Jc0B"
      },
      "source": [
        "##### 3.1.1.3 Evaluation\n",
        "\n",
        "To evaluate each model’s performance, there are several common metrics in use:\n",
        "\n",
        "Precision\n",
        "\n",
        "1.   Precision\n",
        "2.   Recall\n",
        "3.   F-score\n",
        "4.   Accuracy\n",
        "5.   Confusion Matrix\n"
      ]
    },
    {
      "cell_type": "code",
      "metadata": {
        "id": "1VxDTvfVKXbD",
        "colab": {
          "base_uri": "https://localhost:8080/",
          "height": 991
        },
        "outputId": "dd46180b-ef03-4065-b12b-757a119cb243"
      },
      "source": [
        "# Mean Accuracy\n",
        "print(model_svm.score(X_test_bow, y_test))\n",
        "print(model_dec.score(X_test_bow, y_test))\n",
        "print(model_gnb.score(X_test_bow.toarray(), y_test))\n",
        "print(model_lg.score(X_test_bow, y_test))\n",
        "\n",
        "# F1 Score\n",
        "from sklearn.metrics import f1_score\n",
        "\n",
        "y_pred = model_svm.predict(X_test_bow)  # Corrected variable name here\n",
        "\n",
        "print(f1_score(y_test, y_pred, average=None, labels=movie_reviews.categories()))\n",
        "\n",
        "# Confusion Matrix\n",
        "from sklearn.metrics import confusion_matrix, ConfusionMatrixDisplay\n",
        "\n",
        "cm_svm = confusion_matrix(y_test, y_pred, labels=movie_reviews.categories())\n",
        "disp_svm = ConfusionMatrixDisplay(confusion_matrix=cm_svm, display_labels=movie_reviews.categories())\n",
        "disp_svm.plot()\n",
        "\n",
        "y_pred_lg = model_lg.predict(X_test_bow)\n",
        "cm_lg = confusion_matrix(y_test, y_pred_lg, labels=movie_reviews.categories())\n",
        "disp_lg = ConfusionMatrixDisplay(confusion_matrix=cm_lg, display_labels=movie_reviews.categories())\n",
        "disp_lg.plot()\n",
        "\n",
        "# Try a whole new self-created review\n",
        "new_review = ['This book looks soso like the content but the cover is weird',\n",
        "              'This book looks soso like the content and the cover is weird']\n",
        "new_review_bow = tfidf_vec.transform(new_review)\n",
        "print(model_svm.predict(new_review_bow))\n"
      ],
      "execution_count": 15,
      "outputs": [
        {
          "output_type": "stream",
          "name": "stdout",
          "text": [
            "0.8075757575757576\n",
            "0.65\n",
            "0.7015151515151515\n",
            "0.7954545454545454\n",
            "[0.80248834 0.81240768]\n",
            "['neg' 'neg']\n"
          ]
        },
        {
          "output_type": "display_data",
          "data": {
            "text/plain": [
              "<Figure size 640x480 with 2 Axes>"
            ],
            "image/png": "[encoded data removed]"
          },
          "metadata": {}
        },
        {
          "output_type": "display_data",
          "data": {
            "text/plain": [
              "<Figure size 640x480 with 2 Axes>"
            ],
            "image/png": "[encoded data removed]"
          },
          "metadata": {}
        }
      ]
    },
    {
      "cell_type": "markdown",
      "metadata": {
        "id": "5Uc7yLN-KfN6"
      },
      "source": [
        "##### 3.1.1.4 Tuning Hyperparameters\n",
        "For each model, we have not optimized it in terms of its hyperparameter setting.\n",
        "\n",
        "Now that SVM seems to perform the best among all, we take this as our base model and further fine-tune its hyperparameter using cross-validation and Grid Search.\n",
        "\n"
      ]
    },
    {
      "cell_type": "code",
      "metadata": {
        "id": "hPZJnNT_KqI7",
        "colab": {
          "base_uri": "https://localhost:8080/"
        },
        "outputId": "d805a964-fa29-40e4-e454-735814d03114"
      },
      "source": [
        "from sklearn.model_selection import GridSearchCV\n",
        "\n",
        "parameters = {'kernel': ('linear', 'rbf'), 'C': (1,4,8,16,32)}\n",
        "\n",
        "svc = svm.SVC()\n",
        "clf = GridSearchCV(svc, parameters, cv=10, n_jobs=-1) ## `-1` run in parallel\n",
        "clf.fit(X_train_bow, y_train)\n",
        "\n",
        "\n",
        "print(sorted(clf.cv_results_.keys()))\n",
        "\n",
        "#We can check the parameters that yield the most optimal results in the Grid Search:\n",
        "\n",
        "print(clf.best_params_)\n",
        "print(clf.score(X_test_bow, y_test))"
      ],
      "execution_count": 17,
      "outputs": [
        {
          "output_type": "stream",
          "name": "stdout",
          "text": [
            "['mean_fit_time', 'mean_score_time', 'mean_test_score', 'param_C', 'param_kernel', 'params', 'rank_test_score', 'split0_test_score', 'split1_test_score', 'split2_test_score', 'split3_test_score', 'split4_test_score', 'split5_test_score', 'split6_test_score', 'split7_test_score', 'split8_test_score', 'split9_test_score', 'std_fit_time', 'std_score_time', 'std_test_score']\n",
            "{'C': 1, 'kernel': 'linear'}\n",
            "0.8106060606060606\n"
          ]
        }
      ]
    },
    {
      "cell_type": "markdown",
      "metadata": {
        "id": "QqTkIiXy45dG"
      },
      "source": [
        "### 3.2 Introduction to Neural Networks for NLP\n",
        "\n",
        "With the advancement of computational efficiency and resource availability combined with the availability of large amounts of data came the rising importance of Neural Networks and Deep Learning. Especially as it pertains to NLP.\n",
        "\n",
        "*What is Deep Learning?*\n",
        "Deep Learning is a type of machine learning based on artifical neaural networks in which multiple layers of processing are used to extract progressively higher levels of features from data.\n",
        "\n",
        "*What is used for?*\n",
        "Common segments of Deep Learning include NLP tasks, image processing, and time/sequence data analysis like predicting stock market trends or the weather.\n",
        "\n",
        "*How is it different from Machine Learning?*\n",
        "There are several differences (but a lot more in common). Primarily, neural networks enable models to learn non-linear decision boundaries instead of strict linear boundaries. Moreover, Deep Learning notorious does away with feature extraction and engineering.\n",
        "\n",
        "Non-linear decision boundaries compared to classical linear output for Machine Learning\n",
        "![Artificial Intelligence](https://drive.google.com/uc?export=view&id=1cUbV4UZDThbmcKsJKKQGsreEOmkWQSeS)\n",
        "\n",
        "ML vs DL\n",
        "![Artificial Intelligence](https://drive.google.com/uc?export=view&id=1cSP4uxjq-8IL8xRiDN5xRHveTNnPoHp1)\n",
        "\n"
      ]
    },
    {
      "cell_type": "markdown",
      "metadata": {
        "id": "wXgv2idTSh9X"
      },
      "source": [
        "#### 3.1.1 Types of Neural Networks\n",
        "There are several types of Neural Networks that can be used to achieve different predictive goals. For example, we commonly use Convolutional Neural Networks to process image tasks (or non-sequential tasks) and we use a very of Recurrent Neural Networks to complete sequence-based tasks like time series for stock predictions or translating a sentence from left to right.\n",
        "\n",
        "The following diagram shows the types of Networks that support sequential and non-sequential data.\n",
        "\n",
        "![Neural Networks](https://drive.google.com/uc?export=view&id=12Ixtwys-z3_vv1ema0xyonYOffAWn5p1)\n",
        "\n",
        "##### 2.1.2 Characteristics of the types of NN ([from Chen, 2020](https://alvinntnu.github.io/NTNU_ENC2045_LECTURES/nlp/dl-neural-network-from-scratch.html))\n",
        "\n",
        "*Multi-Layer Perceptron (Fully Connected Network)*\n",
        "*   Input Layer, one or more hidden layers, and output layer\n",
        "*  A hidden layer consists of neurons (perceptrons) which process certain aspect of the features and send the processed information into the next hidden layer.\n",
        "\n",
        "*Convolutional Neural Network (CNN)*\n",
        "*   Mainly for image and audio processing\n",
        "*   Convolution Layer, Pooling Layer, Fully Connected Layer\n",
        "\n",
        "*Recurrent Neural Network (RNN)*\n",
        "*   fully-connected networks do not remember the steps from previous situations and therefore do not learn to make decisions based on context in training.\n",
        "*  RNN stores the past information and all its decisions are taken from what it has learned from the past.\n",
        "*   RNN is effective in dealing with time-series data (e.g., text, speech).\n",
        "*   Preferred methods in NLP\n",
        "\n",
        "\n"
      ]
    },
    {
      "cell_type": "markdown",
      "metadata": {
        "id": "sTMKd5MhSqML"
      },
      "source": [
        "#### 3.1.2 Characteristics of the Neural Network\n",
        "\n",
        "The following image shows a basic forward propogation Neural Network![NN GIF](https://drive.google.com/uc?export=view&id=1cPN0fK69ncwFD-Idaesvc4LvSLDpHhbO)\n",
        "\n",
        "Generically, a Neural Network will include  (from Chen, 2020):\n",
        "\n",
        "*   **Forward Propagation**: the process of the model taking a series of inputs, manipulating and transforming them, running them through the hidden layers, and producing a predictive output layer.\n",
        "*   **Backward Propagation**: the process of comparing the outputs of the model and then updating the weights in your model to adjust for the observed output compared to the expected output (called loss).\n",
        "*   **Weights**: A vector of weights that are part of the \"hidden layer\". Weights are multiplied by the input layer or previous hidden layer to teach the model which neurons should be activated. Thus, they are an input into the neuron. The also get trained to be more accurate through backpropogation.\n",
        "*   **Neurons**: The component of the Neural Network that is its namesake!. This allow us to model non-linear relationships between input and output data.\n",
        "*   **Activation Functions**:  the activation function of a node determines whether the node would activate the output given the weighted sum of the input values.\n",
        "*   **Nodes to Layers**: neural network can be defined in terms of depths and widths of its layers\n",
        "*   **Layer, Parameters, and Matrix Mutiplication**: Each layer transforms the input values into the output values based on its layer parameters.\n",
        "*   **Hyperparameters**: similar to ML, these are typically human inputs to the model to refine the models predictive efficacy.\n",
        "*   **Loss Function**: If the target ouputs are numeric values, we can evaluate the errors. The loss function (termed cross entropy) represents the function of showing the actual distance of the observed output against the expected output. We can use this information to update our network to be better at predicting in our backpropogation process.\n",
        "*   **Learning Rate and Gradient Descent**: Using the Loss Function, we can now perform the most important step in model training — adjusting the weights (i.e., parameters) of the model. This optimization method to finding a combination of weights that minimize the loss function. The learning rate is a hyperparameter that controls how fast the model learns.\n",
        "\n",
        "\n",
        "\n",
        "\n",
        "\n",
        "\n"
      ]
    },
    {
      "cell_type": "markdown",
      "metadata": {
        "id": "a-3O5oiq5FBO"
      },
      "source": [
        "#### 3.2.3 Example: Neural Network Approach for NLP\n",
        "\n",
        "Please refer (here) [https://alvinntnu.github.io/NTNU_ENC2045_LECTURES/nlp/dl-sentiment-case.html#prepare-data] for an example of NLP using various types of Neural Networks.,"
      ]
    },
    {
      "cell_type": "markdown",
      "metadata": {
        "id": "6O4qWBwE5PXe"
      },
      "source": [
        "### 3.3 Introduction to Recurrent Neural Networks\n",
        "\n",
        "Recurrent neural network (RNN) \"contains loops, allowing information to be stored within the network. In short, Recurrent Neural Networks use their reasoning from previous experiences to inform the upcoming events.\"\n",
        "\n",
        "A common example of an RNN is machine translation. For example, the *sequence* of the sentence is used to translate from one language to another.\n",
        "\n",
        "\n",
        "See the image below of the RNN Formula:\n",
        "\n",
        "![Neural Networks](https://drive.google.com/uc?export=view&id=12OLUdjs-cDP--rRVU2DziuiWUYKUiruw)\n",
        "\n",
        "See additional the different types of RNNs:![Neural Networks](https://drive.google.com/uc?export=view&id=12MRBEOEukvOzkZt6yvcQJwDwrHSj18dh)\n",
        "\n",
        "Please read the following for a great Illustrated Guide to [Recurrent Neural Networks](https://towardsdatascience.com/illustrated-guide-to-recurrent-neural-networks-79e5eb8049c9)\n"
      ]
    },
    {
      "cell_type": "markdown",
      "metadata": {
        "id": "j8VbcnhR5Wqe"
      },
      "source": [
        "### 3.4 Exercise: Neural Network for NLP\n",
        "\n",
        "Use the Brown corpus (nltk.corpus.brown) to create a trigram-based neural language model.\n",
        "\n",
        "Please use the language model to generate 50-word text sequences using the seed text “The news”. Provide a few examples from your trained model.\n",
        "\n",
        "A few important notes in data preprocessing:\n",
        "\n",
        "When preparing the input sequences of trigrams for model training, please make sure the trigram does not span across “sentence boundaries”. You can utilize the sentence tokenization annotations provided by the ntlk.corpus.brown.sents().\n",
        "\n",
        "The neural language model will be trained based on all trigrams that fulfill the above criterion in the entire Brown corpus.\n",
        "\n",
        "When you use your trigram-based neural language model to generate sequences, please add randomness to the sampling of the next word. If you always ask the language model to choose the next word of highest predicted probability value, your text would be very repetitive.\n",
        "\n",
        "Please provide your code response in the cell below:\n"
      ]
    },
    {
      "cell_type": "code",
      "metadata": {
        "id": "rtfFHTn75dSu",
        "colab": {
          "base_uri": "https://localhost:8080/"
        },
        "outputId": "4c14c48d-dcf4-442f-ccbb-ff7a0b6860fc"
      },
      "source": [
        "### START CODE HERE (REPLACE INSTANCES OF 'None' with your code) ###\n",
        "import nltk\n",
        "from nltk.corpus import brown\n",
        "from nltk.util import ngrams\n",
        "from collections import defaultdict\n",
        "import random\n",
        "\n",
        "# Download the Brown corpus if not already downloaded\n",
        "nltk.download('brown')\n",
        "\n",
        "# Load the Brown corpus and tokenize into sentences\n",
        "sentences = brown.sents()\n",
        "\n",
        "# Generate trigrams from the sentences (ignoring sentence boundaries)\n",
        "trigrams = []\n",
        "for sentence in sentences:\n",
        "    trigrams.extend(list(ngrams(sentence, 3, pad_left=True, pad_right=True, left_pad_symbol='<s>', right_pad_symbol='</s>')))\n",
        "\n",
        "# Create a frequency distribution of trigrams\n",
        "trigram_freq = defaultdict(int)\n",
        "for trigram in trigrams:\n",
        "    trigram_freq[trigram] += 1\n",
        "\n",
        "# Total number of trigrams\n",
        "total_trigrams = len(trigrams)\n",
        "\n",
        "# Normalize the frequency to probabilities\n",
        "trigram_prob = defaultdict(float)\n",
        "for trigram, freq in trigram_freq.items():\n",
        "    trigram_prob[trigram] = freq / total_trigrams\n",
        "\n",
        "# Function to generate text based on trigram model\n",
        "def generate_text(seed_text, length=50):\n",
        "    text = seed_text.split()\n",
        "    for _ in range(length):\n",
        "        # Get the last two words to form the context\n",
        "        context = tuple(text[-2:])\n",
        "\n",
        "        # Find all trigrams that start with the context\n",
        "        possible_trigrams = [trigram for trigram in trigram_prob if trigram[:2] == context]\n",
        "\n",
        "        if not possible_trigrams:\n",
        "            break\n",
        "\n",
        "        # Select a trigram based on probabilities\n",
        "        chosen_trigram = random.choices(possible_trigrams, weights=[trigram_prob[trigram] for trigram in possible_trigrams])[0]\n",
        "\n",
        "        # Append the last word of the chosen trigram to the text\n",
        "        text.append(chosen_trigram[-1])\n",
        "\n",
        "    return ' '.join(text)\n",
        "\n",
        "# Generate 5 sequences of 50 words each starting with \"The news\"\n",
        "for i in range(5):\n",
        "    generated_text = generate_text(\"The news\", length=50)\n",
        "    print(f\"Generated Text {i+1}:\")\n",
        "    print(generated_text)\n",
        "    print()\n",
        "\n",
        "### END CODE HERE ###"
      ],
      "execution_count": 1,
      "outputs": [
        {
          "output_type": "stream",
          "name": "stderr",
          "text": [
            "[nltk_data] Downloading package brown to /root/nltk_data...\n",
            "[nltk_data]   Unzipping corpora/brown.zip.\n"
          ]
        },
        {
          "output_type": "stream",
          "name": "stdout",
          "text": [
            "Generated Text 1:\n",
            "The news of the points in the minds and hearts of students and 15 per cent . </s> </s>\n",
            "\n",
            "Generated Text 2:\n",
            "The news of a residential consumer might be expected to register today for the selection would be to provide research and information storage and retrieval . </s> </s>\n",
            "\n",
            "Generated Text 3:\n",
            "The news of a firm seat . </s> </s>\n",
            "\n",
            "Generated Text 4:\n",
            "The news of all , a big enough to give somebody else will I do now . </s> </s>\n",
            "\n",
            "Generated Text 5:\n",
            "The news of a representative of the world is in progress . </s> </s>\n",
            "\n"
          ]
        }
      ]
    },
    {
      "cell_type": "markdown",
      "metadata": {
        "id": "tQ-mO2xjtjbd"
      },
      "source": [
        "Examples of the 50-word text sequences created by the language model:\n",
        "\n",
        "```\n",
        "The news that was the first time was that the public interest in the first time he was '' and the in the of the state to the of the world of these theories '' and a few days '' he said that a note of the characteristics of the time of\n",
        "\n",
        "\n",
        "The news of rayburn's commitment well known that mine '' he said '' he said he was in his own life and of the most part of the women have been the of her and mother '' said mrs buck have not been as a result of a group of the and\n",
        "\n",
        "\n",
        "The news that is the basic truth in the next day to relax the emotional stimulation and fear that the author of the western world '' and said it was not a little more than the most of the state of the quarrel obtained a qualification that most of these forces as\n",
        "\n",
        "\n",
        "The news and a little of the time we are never trying to find out what he has a small boy and a series of a new crisis the book was not a tax bill was not at the time of the white house would be to the extent to which he\n",
        "\n",
        "\n",
        "The news of the church must be well to the extent of the most important element of the '' the end of the whole world '' he said he was in the of the '' of the and of the state of the is the of his new ideas that had been\n",
        "```"
      ]
    },
    {
      "cell_type": "markdown",
      "metadata": {
        "id": "3ruAxznty058"
      },
      "source": [
        "##A. References\n",
        "\n",
        "1.   Chapter 7 – Neural Networks. Daniel Jurafsky & James H. Martin. Copyright © 2021. All rights reserved. Draft of September 21, 2021.\n",
        "2.   [Word2vec from Scratch with NumPy](https://towardsdatascience.com/word2vec-from-scratch-with-numpy-8786ddd49e72)\n",
        "3.   [A hands=on intutive approach to Deep Learning Methods for Text Data - Word2Vec,GloVe and FastText](https://towardsdatascience.com/understanding-feature-engineering-part-4-deep-learning-methods-for-text-data-96c44370bbfa)\n",
        "4.    [Traditional Methods for Text Data](https://towardsdatascience.com/understanding-feature-engineering-part-3-traditional-methods-for-text-data-f6f7d70acd41)\n",
        "5.    [Word Embeddings](https://colab.research.google.com/github/tensorflow/text/blob/master/docs/guide/word_embeddings.ipynb#scrollTo=Q6mJg1g3apaz)\n",
        "6. [CS 224D: Deep Learning for NLP](https://cs224d.stanford.edu/lecture_notes/LectureNotes1.pdf)\n",
        "7. [Text Vectorization](https://alvinntnu.github.io/NTNU_ENC2045_LECTURES/nlp/text-vec-traditional.html)\n",
        "8. [Brown Corpus](https://en.wikipedia.org/wiki/Brown_Corpus)\n",
        "9. [TF-IDF](https://ethen8181.github.io/machine-learning/clustering_old/tf_idf/tf_idf.html)\n",
        "10. [Applying TF-IDF algorithm in practice](https://plumbr.io/blog/programming/applying-tf-idf-algorithm-in-practice)\n",
        "11. [text2vec](http://text2vec.org/similarity.html)\n",
        "12. [Difference between a parameter and a hyperparameter](https://machinelearningmastery.com/difference-between-a-parameter-and-a-hyperparameter/)\n",
        "13. [Sentiment Analysis Using Bag-of-Words](https://alvinntnu.github.io/NTNU_ENC2045_LECTURES/nlp/ml-sklearn-classification.html)\n",
        "14. [LIME of words: interpreting Recurrent Neural Networks predictions](https://data4thought.com/deep-lime.html)\n",
        "15. [Deepai.org](https://deepai.org/machine-learning-glossary-and-terms/recurrent-neural-network)"
      ]
    }
  ]
}